{
 "cells": [
  {
   "cell_type": "code",
   "execution_count": 1,
   "id": "89da4e56-b4ea-4ec8-9b23-b2dd707bf507",
   "metadata": {},
   "outputs": [],
   "source": [
    "from helper_functions import *"
   ]
  },
  {
   "cell_type": "code",
   "execution_count": 2,
   "id": "2bd53084-bb37-4762-b0a1-a9b336bfb516",
   "metadata": {},
   "outputs": [
    {
     "name": "stdout",
     "output_type": "stream",
     "text": [
      "1664838142\n"
     ]
    }
   ],
   "source": [
    "add_expense(15, 48123799, \"coke\", 32463151)"
   ]
  },
  {
   "cell_type": "code",
   "execution_count": null,
   "id": "677369fa-0abc-4de7-b966-b3004eabda67",
   "metadata": {},
   "outputs": [],
   "source": []
  }
 ],
 "metadata": {
  "kernelspec": {
   "display_name": "Python 3 (ipykernel)",
   "language": "python",
   "name": "python3"
  },
  "language_info": {
   "codemirror_mode": {
    "name": "ipython",
    "version": 3
   },
   "file_extension": ".py",
   "mimetype": "text/x-python",
   "name": "python",
   "nbconvert_exporter": "python",
   "pygments_lexer": "ipython3",
   "version": "3.8.10"
  }
 },
 "nbformat": 4,
 "nbformat_minor": 5
}
